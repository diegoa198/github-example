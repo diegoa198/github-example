{
 "cells": [
  {
   "cell_type": "markdown",
   "metadata": {},
   "source": [
    "## Capstone Final Project - Weeks 4 and 5 "
   ]
  },
  {
   "cell_type": "markdown",
   "metadata": {},
   "source": [
    "### Business Problem"
   ]
  },
  {
   "cell_type": "markdown",
   "metadata": {},
   "source": [
    "In this final project, I am going to find an optimal location for a gym in Toronto. It´s specifically targeted to stakeholders interested in opening a sport center in Toronto, Canada. \n",
    "\n",
    "As there are many gyms located in Toronto, the main idea is to detect locations, which have few or none gyms. Moreover, I´ll analyze proximity to Yoga Places and Parks, as they are possible competitors to a gym.\n",
    "\n",
    "I´ll base my analysis on data science tools to generate a list of neighborhoods determining pros and cons so that the stakeholder can choose the final location.\n"
   ]
  },
  {
   "cell_type": "markdown",
   "metadata": {},
   "source": [
    "### Data Sources"
   ]
  },
  {
   "cell_type": "markdown",
   "metadata": {},
   "source": [
    "Having presented the main problem we want to solve, the main factors which will affect the stakeholders´ decision are:\n",
    "\n",
    "•\tnumber of gyms in each neighborhood,\n",
    "\n",
    "•\tnumber of Yoga Places and Parks.\n",
    "\n",
    "Following data sources will be needed to extract/generate the required information:\n",
    "\n",
    "•\tToronto´s Neighborhoods data will be obtained from Wikipedia.\n",
    "\n",
    "•\tnumber of gyms and their location in every neighborhood will be obtained using Foursquare API.\n",
    "\n",
    "•\tnumber of Yoga Places / Parks and their location in every neighborhood will be obtained using Foursquare API.\n"
   ]
  },
  {
   "cell_type": "code",
   "execution_count": null,
   "metadata": {},
   "outputs": [],
   "source": []
  }
 ],
 "metadata": {
  "kernelspec": {
   "display_name": "Python 3",
   "language": "python",
   "name": "python3"
  },
  "language_info": {
   "codemirror_mode": {
    "name": "ipython",
    "version": 3
   },
   "file_extension": ".py",
   "mimetype": "text/x-python",
   "name": "python",
   "nbconvert_exporter": "python",
   "pygments_lexer": "ipython3",
   "version": "3.6.5"
  }
 },
 "nbformat": 4,
 "nbformat_minor": 2
}
